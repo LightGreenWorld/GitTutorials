{
 "cells": [
  {
   "cell_type": "code",
   "execution_count": 1,
   "metadata": {},
   "outputs": [
    {
     "name": "stdout",
     "output_type": "stream",
     "text": [
      "Looking in links: https://download.pytorch.org/whl/torch_stable.html\n",
      "Collecting torch==1.6.0+cpu\n",
      "  Downloading https://download.pytorch.org/whl/cpu/torch-1.6.0%2Bcpu-cp38-cp38-win_amd64.whl (167.7 MB)\n",
      "Collecting torchvision==0.7.0+cpu\n",
      "  Downloading https://download.pytorch.org/whl/cpu/torchvision-0.7.0%2Bcpu-cp38-cp38-win_amd64.whl (362 kB)\n",
      "Requirement already satisfied: future in c:\\users\\ilifo\\anaconda3\\lib\\site-packages (from torch==1.6.0+cpu) (0.18.2)\n",
      "Requirement already satisfied: numpy in c:\\users\\ilifo\\anaconda3\\lib\\site-packages (from torch==1.6.0+cpu) (1.18.5)\n",
      "Requirement already satisfied: pillow>=4.1.1 in c:\\users\\ilifo\\anaconda3\\lib\\site-packages (from torchvision==0.7.0+cpu) (7.2.0)\n",
      "Installing collected packages: torch, torchvision\n",
      "Successfully installed torch-1.6.0+cpu torchvision-0.7.0+cpu\n",
      "Note: you may need to restart the kernel to use updated packages.\n"
     ]
    }
   ],
   "source": [
    "pip install torch==1.6.0+cpu torchvision==0.7.0+cpu -f https://download.pytorch.org/whl/torch_stable.html\n"
   ]
  },
  {
   "cell_type": "code",
   "execution_count": 2,
   "metadata": {},
   "outputs": [],
   "source": [
    "import torch"
   ]
  },
  {
   "cell_type": "code",
   "execution_count": 14,
   "metadata": {},
   "outputs": [
    {
     "name": "stdout",
     "output_type": "stream",
     "text": [
      "tensor([[ 1,  2,  3],\n",
      "        [ 4,  5,  6],\n",
      "        [ 7,  8, 10]])\n",
      "Size: torch.Size([3, 3])\n",
      "Shape: torch.Size([3, 3])\n",
      "rank(차원): 2\n"
     ]
    }
   ],
   "source": [
    "x = torch.tensor([[1,2,3], [4,5,6], [7,8,10]])\n",
    "print(x)\n",
    "print(\"Size:\", x.size())\n",
    "print(\"Shape:\", x.shape)\n",
    "print(\"rank(차원):\", x.ndimension())\n"
   ]
  },
  {
   "cell_type": "code",
   "execution_count": 6,
   "metadata": {},
   "outputs": [
    {
     "ename": "SyntaxError",
     "evalue": "illegal target for annotation (<ipython-input-6-fd3da3b41416>, line 1)",
     "output_type": "error",
     "traceback": [
      "\u001b[1;36m  File \u001b[1;32m\"<ipython-input-6-fd3da3b41416>\"\u001b[1;36m, line \u001b[1;32m1\u001b[0m\n\u001b[1;33m    unsqueeze() : 랭크늘리기\u001b[0m\n\u001b[1;37m    ^\u001b[0m\n\u001b[1;31mSyntaxError\u001b[0m\u001b[1;31m:\u001b[0m illegal target for annotation\n"
     ]
    }
   ],
   "source": [
    "# unsqueeze() : 랭크늘리기\n",
    "# squeeze(): 텐서 랭크 중 크기 1 랭크 삭제\n",
    "# view():"
   ]
  },
  {
   "cell_type": "code",
   "execution_count": 8,
   "metadata": {},
   "outputs": [
    {
     "name": "stdout",
     "output_type": "stream",
     "text": [
      "tensor([[[1, 2, 3],\n",
      "         [4, 5, 6],\n",
      "         [7, 8, 9]]])\n",
      "Size: torch.Size([1, 3, 3])\n",
      "Shape: torch.Size([1, 3, 3])\n",
      "rank(차원): 3\n"
     ]
    }
   ],
   "source": [
    "# 랭크 늘리기\n",
    "# 텐서 첫째 자리에 (0번째)에 1차원 추가 [1, 3, 3] 형태의 3차원 텐서로 변환\n",
    "# 차원은 늘어나도 텐서 속 원소의 수는 유지\n",
    "\n",
    "x = torch.unsqueeze(x, 0)\n",
    "print(x)\n",
    "print(\"Size:\", x.size())\n",
    "print(\"Shape:\", x.shape)\n",
    "print(\"rank(차원):\", x.ndimension())"
   ]
  },
  {
   "cell_type": "code",
   "execution_count": 9,
   "metadata": {},
   "outputs": [
    {
     "name": "stdout",
     "output_type": "stream",
     "text": [
      "tensor([[1, 2, 3],\n",
      "        [4, 5, 6],\n",
      "        [7, 8, 9]])\n",
      "Size: torch.Size([3, 3])\n",
      "Shape: torch.Size([3, 3])\n",
      "rank(차원): 2\n"
     ]
    }
   ],
   "source": [
    "# 랭크 줄이기\n",
    "# 랭크는 줄어도 텐서 속 원소의 수는 유지\n",
    "x = torch.squeeze(x)\n",
    "print(x)\n",
    "print(\"Size:\", x.size())\n",
    "print(\"Shape:\", x.shape)\n",
    "print(\"rank(차원):\", x.ndimension())"
   ]
  },
  {
   "cell_type": "code",
   "execution_count": 15,
   "metadata": {},
   "outputs": [
    {
     "name": "stdout",
     "output_type": "stream",
     "text": [
      "tensor([ 1,  2,  3,  4,  5,  6,  7,  8, 10])\n",
      "Size: torch.Size([9])\n",
      "Shape: torch.Size([9])\n",
      "rank(차원): 1\n"
     ]
    }
   ],
   "source": [
    "# 차원의 형태 바꾸기\n",
    "\n",
    "x = x.view(9)     #1차원 텐서로~~ 텐서 원소 개수 변경은 안됨\n",
    "\n",
    "print(x)\n",
    "print(\"Size:\", x.size())\n",
    "print(\"Shape:\", x.shape)\n",
    "print(\"rank(차원):\", x.ndimension())"
   ]
  },
  {
   "cell_type": "code",
   "execution_count": 16,
   "metadata": {},
   "outputs": [
    {
     "ename": "SyntaxError",
     "evalue": "invalid syntax (<ipython-input-16-5ac1d3d8f8b1>, line 3)",
     "output_type": "error",
     "traceback": [
      "\u001b[1;36m  File \u001b[1;32m\"<ipython-input-16-5ac1d3d8f8b1>\"\u001b[1;36m, line \u001b[1;32m3\u001b[0m\n\u001b[1;33m    except Exception as e:\u001b[0m\n\u001b[1;37m    ^\u001b[0m\n\u001b[1;31mSyntaxError\u001b[0m\u001b[1;31m:\u001b[0m invalid syntax\n"
     ]
    }
   ],
   "source": [
    "# 원소가 9개인 텐서를 2x4 원소 8개로 변경 안됨 \n",
    "try:\n",
    "    x = x.view(2,4)\n",
    "    except Exception as e:\n",
    "        print(e)        # 에러 출력"
   ]
  },
  {
   "cell_type": "markdown",
   "metadata": {},
   "source": [
    "randn(): 인자에서 정한 shape의 정해진 dtype에 따라 무작위 텐서\n",
    "\n",
    "torch.mm(): 행렬곱"
   ]
  },
  {
   "cell_type": "code",
   "execution_count": 18,
   "metadata": {},
   "outputs": [
    {
     "name": "stdout",
     "output_type": "stream",
     "text": [
      "w size: torch.Size([5, 3])\n",
      "x size: torch.Size([3, 2])\n",
      "w tensor([[ 0.3251, -0.7606, -0.2593],\n",
      "        [ 0.0320,  1.4053, -0.3250],\n",
      "        [ 0.4165,  0.7218, -0.1875],\n",
      "        [ 0.1591,  0.3795, -0.6358],\n",
      "        [-0.4047,  1.2709, -0.7325]])\n",
      "x tensor([[1., 2.],\n",
      "        [3., 4.],\n",
      "        [5., 6.]])\n"
     ]
    }
   ],
   "source": [
    "w = torch.randn(5, 3, dtype=torch.float)\n",
    "x = torch.tensor([[1.0, 2.0], [3.0, 4.0], [5.0, 6.0]])\n",
    "print(\"w size:\", w.size())\n",
    "print(\"x size:\", x.size())\n",
    "print(\"w\", w)\n",
    "print(\"x\", x)\n"
   ]
  },
  {
   "cell_type": "code",
   "execution_count": 20,
   "metadata": {},
   "outputs": [
    {
     "name": "stdout",
     "output_type": "stream",
     "text": [
      "b: torch.Size([5, 2])\n",
      "b: tensor([[-0.8485, -0.5631],\n",
      "        [ 1.5125, -0.3357],\n",
      "        [ 1.8770, -1.1680],\n",
      "        [-0.8091,  0.5207],\n",
      "        [-0.6045,  1.1489]])\n"
     ]
    }
   ],
   "source": [
    "# 행렬 연산 위한 b텐서 설정\n",
    "\n",
    "b = torch.randn(5, 2, dtype=torch.float)\n",
    "print(\"b:\", b.size())\n",
    "print(\"b:\", b)"
   ]
  },
  {
   "cell_type": "code",
   "execution_count": 21,
   "metadata": {},
   "outputs": [
    {
     "name": "stdout",
     "output_type": "stream",
     "text": [
      "wx size: torch.Size([5, 2])\n",
      "wx: tensor([[-3.2531, -3.9479],\n",
      "        [ 2.6227,  3.7350],\n",
      "        [ 1.6440,  2.5947],\n",
      "        [-1.8818, -1.9791],\n",
      "        [-0.2544, -0.1206]])\n"
     ]
    }
   ],
   "source": [
    "# 행렬곱 수행\n",
    "\n",
    "wx = torch.mm(w,x)  #w의 행은 5, x의 열은 2. 즉 shape은 [5,2] 입니다.\n",
    "print(\"wx size:\", wx.size())\n",
    "print(\"wx:\", wx)\n"
   ]
  },
  {
   "cell_type": "code",
   "execution_count": 22,
   "metadata": {},
   "outputs": [
    {
     "name": "stdout",
     "output_type": "stream",
     "text": [
      "result size: torch.Size([5, 2])\n",
      "result: tensor([[-4.1016, -4.5110],\n",
      "        [ 4.1352,  3.3993],\n",
      "        [ 3.5210,  1.4267],\n",
      "        [-2.6909, -1.4584],\n",
      "        [-0.8589,  1.0283]])\n"
     ]
    }
   ],
   "source": [
    "result = wx + b\n",
    "print(\"result size:\", result.size())\n",
    "print(\"result:\", result)"
   ]
  },
  {
   "cell_type": "code",
   "execution_count": null,
   "metadata": {},
   "outputs": [],
   "source": []
  }
 ],
 "metadata": {
  "kernelspec": {
   "display_name": "Python 3",
   "language": "python",
   "name": "python3"
  },
  "language_info": {
   "codemirror_mode": {
    "name": "ipython",
    "version": 3
   },
   "file_extension": ".py",
   "mimetype": "text/x-python",
   "name": "python",
   "nbconvert_exporter": "python",
   "pygments_lexer": "ipython3",
   "version": "3.8.3"
  }
 },
 "nbformat": 4,
 "nbformat_minor": 4
}

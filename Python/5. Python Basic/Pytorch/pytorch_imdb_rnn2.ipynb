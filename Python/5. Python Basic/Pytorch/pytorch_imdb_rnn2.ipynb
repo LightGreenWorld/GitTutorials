{
 "cells": [
  {
   "cell_type": "code",
   "execution_count": 1,
   "metadata": {},
   "outputs": [],
   "source": [
    "import torch\n",
    "from torchtext import data\n",
    "from torchtext import datasets\n",
    "import torch.nn as nn\n",
    "import os"
   ]
  },
  {
   "cell_type": "code",
   "execution_count": 2,
   "metadata": {},
   "outputs": [],
   "source": [
    "TEXT = data.Field(pad_first=True, fix_length=500)\n",
    "LABEL = data.LabelField(dtype=torch.float)\n",
    "\n",
    "train_data, test_data = datasets.IMDB.splits(TEXT, LABEL)"
   ]
  },
  {
   "cell_type": "code",
   "execution_count": 3,
   "metadata": {},
   "outputs": [
    {
     "name": "stdout",
     "output_type": "stream",
     "text": [
      "{'text': ['Zentropa', 'has', 'much', 'in', 'common', 'with', 'The', 'Third', 'Man,', 'another', 'noir-like', 'film', 'set', 'among', 'the', 'rubble', 'of', 'postwar', 'Europe.', 'Like', 'TTM,', 'there', 'is', 'much', 'inventive', 'camera', 'work.', 'There', 'is', 'an', 'innocent', 'American', 'who', 'gets', 'emotionally', 'involved', 'with', 'a', 'woman', 'he', \"doesn't\", 'really', 'understand,', 'and', 'whose', 'naivety', 'is', 'all', 'the', 'more', 'striking', 'in', 'contrast', 'with', 'the', 'natives.<br', '/><br', '/>But', \"I'd\", 'have', 'to', 'say', 'that', 'The', 'Third', 'Man', 'has', 'a', 'more', 'well-crafted', 'storyline.', 'Zentropa', 'is', 'a', 'bit', 'disjointed', 'in', 'this', 'respect.', 'Perhaps', 'this', 'is', 'intentional:', 'it', 'is', 'presented', 'as', 'a', 'dream/nightmare,', 'and', 'making', 'it', 'too', 'coherent', 'would', 'spoil', 'the', 'effect.', '<br', '/><br', '/>This', 'movie', 'is', 'unrelentingly', 'grim--\"noir\"', 'in', 'more', 'than', 'one', 'sense;', 'one', 'never', 'sees', 'the', 'sun', 'shine.', 'Grim,', 'but', 'intriguing,', 'and', 'frightening.'], 'label': 'pos'}\n"
     ]
    }
   ],
   "source": [
    "print(vars(train_data.examples[0]))"
   ]
  },
  {
   "cell_type": "code",
   "execution_count": 4,
   "metadata": {},
   "outputs": [],
   "source": [
    "import string\n",
    "\n",
    "for example in train_data.examples:\n",
    "    text = [x.lower() for x in vars(example)['text']] #소문자\n",
    "    text = [x.replace(\"<br\",\"\") for x in text] #<br 제거\n",
    "    text = [''.join(c for c in s if c not in string.punctuation) for s in text] #문장부호\n",
    "    text = [s for s in text if s] #공란제거\n",
    "    vars(example)['text'] = text\n",
    "    \n",
    "for example in test_data.examples:\n",
    "    text = [x.lower() for x in vars(example)['text']]\n",
    "    text = [x.replace(\"<br\",\"\") for x in text]\n",
    "    text = [''.join(c for c in s if c not in string.punctuation) for s in text]\n",
    "    text = [s for s in text if s]\n",
    "    vars(example)['text'] = text"
   ]
  },
  {
   "cell_type": "code",
   "execution_count": 5,
   "metadata": {},
   "outputs": [],
   "source": [
    "import random\n",
    "train_data, valid_data = train_data.split(random_state = random.seed(0), split_ratio=0.8)"
   ]
  },
  {
   "cell_type": "code",
   "execution_count": 6,
   "metadata": {},
   "outputs": [],
   "source": [
    "TEXT.build_vocab(train_data, max_size = 50000)\n",
    "LABEL.build_vocab(train_data)"
   ]
  },
  {
   "cell_type": "code",
   "execution_count": 7,
   "metadata": {},
   "outputs": [],
   "source": [
    "batch_size = 100\n",
    "device = torch.device('cuda' if torch.cuda.is_available() else 'cpu')\n",
    "\n",
    "train_iterator, valid_iterator, test_iterator = data.BucketIterator.splits(\n",
    "    (train_data, valid_data, test_data), \n",
    "    batch_size=batch_size,\n",
    "    device=device)"
   ]
  },
  {
   "cell_type": "code",
   "execution_count": 8,
   "metadata": {},
   "outputs": [],
   "source": [
    "# x = [문장길이, batch size]\n",
    "# emb = [문장길이, batch size, embedding dim]\n",
    "\n",
    "# LSTM\n",
    "# out= [문장길이, batch size, hidden dim]\n",
    "# h = [layer 갯수, batch size, hidden dim]\n",
    "# c = [layer 갯수s, batch size, hidden dim]\n",
    "\n",
    "# GRU\n",
    "# out= [문장길이, batch size, hidden dim]\n",
    "# h = [layer 갯수, batch size, hidden dim]\n",
    "\n",
    "\n",
    "import torch.nn as nn \n",
    "\n",
    "class Sentiment(nn.Module):\n",
    "    def __init__(self, vocab_size, embed_dim, hidden_dim, output_dim, n_layers, dropout, method):\n",
    "        super().__init__()\n",
    "        \n",
    "        self.method = method\n",
    "        \n",
    "        self.embed = nn.Embedding(vocab_size, embed_dim)\n",
    "        self.lstm = nn.LSTM(embed_dim, hidden_dim, n_layers, dropout=dropout)\n",
    "        self.gru = nn.GRU(embed_dim, hidden_dim, n_layers, dropout=dropout)\n",
    "        self.fc = nn.Linear(hidden_dim * n_layers, output_dim)\n",
    "        self.fc = nn.Linear(hidden_dim, output_dim)\n",
    "        self.drop = nn.Dropout(dropout)\n",
    "        \n",
    "    def forward(self, x):\n",
    "        \n",
    "        emb = self.drop(self.embed(x))\n",
    "        \n",
    "        if(self.method == 'LSTM'):\n",
    "            out, (h, c) = self.lstm(emb)            \n",
    "        if(self.method == 'GRU'):\n",
    "            out, h = self.gru(emb)\n",
    "        out = self.drop(out[-1])        \n",
    "        return self.fc(out)"
   ]
  },
  {
   "cell_type": "code",
   "execution_count": 9,
   "metadata": {},
   "outputs": [],
   "source": [
    "def binary_accuracy(preds, y):\n",
    "    #round predictions to the closest integer\n",
    "    rounded_preds = torch.round(torch.sigmoid(preds))\n",
    "    correct = (rounded_preds == y).float() #convert into float for division \n",
    "    acc = correct.sum()/len(correct)\n",
    "    return acc"
   ]
  },
  {
   "cell_type": "code",
   "execution_count": 10,
   "metadata": {},
   "outputs": [],
   "source": [
    "def train(model, iterator, optimizer, criterion):\n",
    "    \n",
    "    epoch_loss = 0\n",
    "    epoch_acc = 0\n",
    "    \n",
    "    model.train() # train_mode\n",
    "    for batch in iterator:\n",
    "        \n",
    "        # initializing\n",
    "        optimizer.zero_grad()\n",
    "        \n",
    "        # forward pass\n",
    "        predictions = model(batch.text).squeeze(1)\n",
    "        loss = criterion(predictions, batch.label)\n",
    "        acc = binary_accuracy(predictions, batch.label)\n",
    "        \n",
    "        # backward pass\n",
    "        loss.backward()\n",
    "        optimizer.step()\n",
    "        \n",
    "        epoch_loss += loss.item()\n",
    "        epoch_acc += acc.item()\n",
    "        \n",
    "    return epoch_loss/len(iterator) , epoch_acc/len(iterator) # 평균을 return"
   ]
  },
  {
   "cell_type": "code",
   "execution_count": 11,
   "metadata": {},
   "outputs": [],
   "source": [
    "def evaluate(model, iterator, criterion):\n",
    "    \n",
    "    epoch_loss = 0\n",
    "    epoch_acc = 0\n",
    "    \n",
    "    # evaluation mode\n",
    "    model.eval()\n",
    "    with torch.no_grad():\n",
    "    \n",
    "        for batch in iterator:\n",
    "\n",
    "            predictions = model(batch.text).squeeze(1)\n",
    "            loss = criterion(predictions, batch.label)\n",
    "            acc = binary_accuracy(predictions, batch.label)\n",
    "\n",
    "            epoch_loss += loss.item()\n",
    "            epoch_acc += acc.item()\n",
    "        \n",
    "    return epoch_loss / len(iterator), epoch_acc / len(iterator)"
   ]
  },
  {
   "cell_type": "code",
   "execution_count": 12,
   "metadata": {},
   "outputs": [],
   "source": [
    "import time\n",
    "\n",
    "def epoch_time(start_time, end_time):\n",
    "    elapsed_time = end_time - start_time\n",
    "    elapsed_mins = int(elapsed_time / 60)\n",
    "    elapsed_secs = int(elapsed_time - (elapsed_mins * 60))\n",
    "    return elapsed_mins, elapsed_secs"
   ]
  },
  {
   "cell_type": "code",
   "execution_count": 13,
   "metadata": {},
   "outputs": [],
   "source": [
    "input_dim = len(TEXT.vocab)\n",
    "embed_dim = 400\n",
    "hidden_dim = 256\n",
    "output_dim = 1\n",
    "n_layers = 2\n",
    "dropout = 0.5"
   ]
  },
  {
   "cell_type": "code",
   "execution_count": 14,
   "metadata": {},
   "outputs": [],
   "source": [
    "model = Sentiment(input_dim, embed_dim, hidden_dim, output_dim, n_layers, dropout, method = 'GRU').to(device)\n",
    "# model = Sentiment(input_dim, embed_dim, hidden_dim, output_dim, n_layers, dropout, method = 'LSTM').to(device)\n",
    "optimizer = torch.optim.Adam(model.parameters())\n",
    "criterion = nn.BCEWithLogitsLoss().to(device)"
   ]
  },
  {
   "cell_type": "code",
   "execution_count": 15,
   "metadata": {},
   "outputs": [],
   "source": [
    "N_EPOCHS = 20\n",
    "best_val_loss = float('inf')"
   ]
  },
  {
   "cell_type": "code",
   "execution_count": 16,
   "metadata": {},
   "outputs": [
    {
     "name": "stdout",
     "output_type": "stream",
     "text": [
      "Epoch: 01 | Epoch Time: 0m 49s | train_loss: 0.632 | train_acc: 63.68% val_loss: 0.530 |  val_acc: 74.06%\n",
      "Epoch: 02 | Epoch Time: 0m 49s | train_loss: 0.532 | train_acc: 73.57% val_loss: 0.458 |  val_acc: 80.10%\n",
      "Epoch: 03 | Epoch Time: 0m 49s | train_loss: 0.368 | train_acc: 83.83% val_loss: 0.317 |  val_acc: 87.66%\n",
      "Epoch: 04 | Epoch Time: 0m 49s | train_loss: 0.274 | train_acc: 88.81% val_loss: 0.357 |  val_acc: 87.28%\n",
      "Epoch: 05 | Epoch Time: 0m 50s | train_loss: 0.224 | train_acc: 90.78% val_loss: 0.295 |  val_acc: 89.82%\n",
      "Epoch: 06 | Epoch Time: 0m 49s | train_loss: 0.186 | train_acc: 92.60% val_loss: 0.298 |  val_acc: 89.10%\n",
      "Epoch: 07 | Epoch Time: 0m 50s | train_loss: 0.155 | train_acc: 94.06% val_loss: 0.355 |  val_acc: 89.00%\n",
      "Epoch: 08 | Epoch Time: 0m 49s | train_loss: 0.134 | train_acc: 94.82% val_loss: 0.326 |  val_acc: 90.20%\n",
      "Epoch: 09 | Epoch Time: 0m 49s | train_loss: 0.116 | train_acc: 95.66% val_loss: 0.372 |  val_acc: 88.52%\n",
      "Epoch: 10 | Epoch Time: 0m 50s | train_loss: 0.092 | train_acc: 96.42% val_loss: 0.354 |  val_acc: 90.08%\n"
     ]
    }
   ],
   "source": [
    "for epoch in range(N_EPOCHS):\n",
    "\n",
    "    start_time = time.time()\n",
    "    \n",
    "    train_loss, train_acc = train(model, train_iterator, optimizer, criterion)\n",
    "    val_loss, val_acc = evaluate(model, valid_iterator, criterion)\n",
    "    \n",
    "    end_time = time.time()\n",
    "\n",
    "    epoch_mins, epoch_secs = epoch_time(start_time, end_time)\n",
    "    \n",
    "    # 검증 오차가 가장 적은 최적의 모델을 저장\n",
    "    if not best_val_loss or val_loss < best_val_loss:\n",
    "        if not os.path.isdir(\"model\"):\n",
    "            os.makedirs(\"model\")\n",
    "        torch.save(model.state_dict(), './model/imdb2.pt')\n",
    "        best_val_loss = val_loss\n",
    "    \n",
    "    print('Epoch: {:02} | Epoch Time: {}m {}s | train_loss: {:.3f} | train_acc: {:.2%} val_loss: {:.3f} |  val_acc: {:.2%}'\n",
    "         .format(epoch + 1, epoch_mins, epoch_secs, train_loss, train_acc, val_loss, val_acc))"
   ]
  },
  {
   "cell_type": "code",
   "execution_count": null,
   "metadata": {},
   "outputs": [],
   "source": []
  }
 ],
 "metadata": {
  "kernelspec": {
   "display_name": "env_torch",
   "language": "python",
   "name": "env_torch"
  },
  "language_info": {
   "codemirror_mode": {
    "name": "ipython",
    "version": 3
   },
   "file_extension": ".py",
   "mimetype": "text/x-python",
   "name": "python",
   "nbconvert_exporter": "python",
   "pygments_lexer": "ipython3",
   "version": "3.7.3"
  }
 },
 "nbformat": 4,
 "nbformat_minor": 4
}

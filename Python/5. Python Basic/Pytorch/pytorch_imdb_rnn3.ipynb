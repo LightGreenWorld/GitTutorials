{
 "cells": [
  {
   "cell_type": "code",
   "execution_count": 20,
   "metadata": {},
   "outputs": [],
   "source": [
    "import torch\n",
    "from torchtext import data\n",
    "from torchtext import datasets\n",
    "import torch.nn as nn\n",
    "import os"
   ]
  },
  {
   "cell_type": "code",
   "execution_count": 21,
   "metadata": {},
   "outputs": [],
   "source": [
    "TEXT = data.Field(include_lengths = True)\n",
    "# TEXT = data.Field(pad_first=True, fix_length=500, include_lengths = True)\n",
    "LABEL = data.LabelField(dtype=torch.float)\n",
    "\n",
    "train_data, test_data = datasets.IMDB.splits(TEXT, LABEL)"
   ]
  },
  {
   "cell_type": "code",
   "execution_count": 22,
   "metadata": {},
   "outputs": [
    {
     "name": "stdout",
     "output_type": "stream",
     "text": [
      "{'text': ['Zentropa', 'has', 'much', 'in', 'common', 'with', 'The', 'Third', 'Man,', 'another', 'noir-like', 'film', 'set', 'among', 'the', 'rubble', 'of', 'postwar', 'Europe.', 'Like', 'TTM,', 'there', 'is', 'much', 'inventive', 'camera', 'work.', 'There', 'is', 'an', 'innocent', 'American', 'who', 'gets', 'emotionally', 'involved', 'with', 'a', 'woman', 'he', \"doesn't\", 'really', 'understand,', 'and', 'whose', 'naivety', 'is', 'all', 'the', 'more', 'striking', 'in', 'contrast', 'with', 'the', 'natives.<br', '/><br', '/>But', \"I'd\", 'have', 'to', 'say', 'that', 'The', 'Third', 'Man', 'has', 'a', 'more', 'well-crafted', 'storyline.', 'Zentropa', 'is', 'a', 'bit', 'disjointed', 'in', 'this', 'respect.', 'Perhaps', 'this', 'is', 'intentional:', 'it', 'is', 'presented', 'as', 'a', 'dream/nightmare,', 'and', 'making', 'it', 'too', 'coherent', 'would', 'spoil', 'the', 'effect.', '<br', '/><br', '/>This', 'movie', 'is', 'unrelentingly', 'grim--\"noir\"', 'in', 'more', 'than', 'one', 'sense;', 'one', 'never', 'sees', 'the', 'sun', 'shine.', 'Grim,', 'but', 'intriguing,', 'and', 'frightening.'], 'label': 'pos'}\n"
     ]
    }
   ],
   "source": [
    "print(vars(train_data.examples[0]))"
   ]
  },
  {
   "cell_type": "code",
   "execution_count": 23,
   "metadata": {},
   "outputs": [],
   "source": [
    "import string\n",
    "\n",
    "for example in train_data.examples:\n",
    "    text = [x.lower() for x in vars(example)['text']] #소문자\n",
    "    text = [x.replace(\"<br\",\"\") for x in text] #<br 제거\n",
    "    text = [''.join(c for c in s if c not in string.punctuation) for s in text] #문장부호\n",
    "    text = [s for s in text if s] #공란제거\n",
    "    vars(example)['text'] = text\n",
    "    \n",
    "for example in test_data.examples:\n",
    "    text = [x.lower() for x in vars(example)['text']]\n",
    "    text = [x.replace(\"<br\",\"\") for x in text]\n",
    "    text = [''.join(c for c in s if c not in string.punctuation) for s in text]\n",
    "    text = [s for s in text if s]\n",
    "    vars(example)['text'] = text"
   ]
  },
  {
   "cell_type": "code",
   "execution_count": 24,
   "metadata": {},
   "outputs": [],
   "source": [
    "import random\n",
    "train_data, valid_data = train_data.split(random_state = random.seed(0), split_ratio=0.8)"
   ]
  },
  {
   "cell_type": "code",
   "execution_count": 25,
   "metadata": {},
   "outputs": [],
   "source": [
    "max_vocab_size = 50000\n",
    "TEXT.build_vocab(train_data, max_size = max_vocab_size, vectors = \"glove.6B.300d\", unk_init = torch.Tensor.normal_)\n",
    "LABEL.build_vocab(train_data)"
   ]
  },
  {
   "cell_type": "code",
   "execution_count": 26,
   "metadata": {},
   "outputs": [],
   "source": [
    "batch_size = 100\n",
    "device = torch.device('cuda' if torch.cuda.is_available() else 'cpu')\n",
    "\n",
    "train_iterator, valid_iterator, test_iterator = data.BucketIterator.splits(\n",
    "    (train_data, valid_data, test_data), \n",
    "    batch_size=batch_size,\n",
    "    sort_within_batch = True,\n",
    "    device=device)"
   ]
  },
  {
   "cell_type": "code",
   "execution_count": 27,
   "metadata": {},
   "outputs": [],
   "source": [
    "# x = [문장길이, batch size]\n",
    "# emb = [문장길이, batch size, embedding dim]\n",
    "\n",
    "# LSTM\n",
    "# out= [문장길이, batch size, hidden dim]\n",
    "# h = [layer 갯수, batch size, hidden dim]\n",
    "# c = [layer 갯수s, batch size, hidden dim]\n",
    "\n",
    "# GRU\n",
    "# out= [문장길이, batch size, hidden dim]\n",
    "# h = [layer 갯수, batch size, hidden dim]\n",
    "\n",
    "\n",
    "import torch.nn as nn \n",
    "\n",
    "class Sentiment(nn.Module):\n",
    "    def __init__(self, vocab_size, embed_dim, hidden_dim, output_dim, n_layers, bidirectional, dropout, pad_idx):\n",
    "        super().__init__()\n",
    "        \n",
    "        self.embed = nn.Embedding(vocab_size, embed_dim, padding_idx=pad_idx)\n",
    "        self.lstm = nn.LSTM(embed_dim, hidden_dim, n_layers, bidirectional=bidirectional, dropout=dropout)\n",
    "        self.fc = nn.Linear(hidden_dim * n_layers, output_dim)\n",
    "        self.drop = nn.Dropout(dropout)\n",
    "        \n",
    "    def forward(self, x, x_length):\n",
    "        \n",
    "        embed = self.drop(self.embed(x))\n",
    "        \n",
    "        pad_embed = nn.utils.rnn.pack_padded_sequence(embed, x_length)\n",
    "        \n",
    "        pad_out, (hidden, cell) = self.lstm(pad_embed)\n",
    "        \n",
    "        out, out_len = nn.utils.rnn.pad_packed_sequence(pad_out)\n",
    "        \n",
    "        #out = [sent len, batch size, hid dim * num directions]\n",
    "        #out over padding tokens are zero tensors\n",
    "        \n",
    "        #hidden = [num layers * num directions, batch size, hid dim]\n",
    "        #cell = [num layers * num directions, batch size, hid dim]\n",
    "        \n",
    "        #concat the final forward (hidden[-2,:,:]) and backward (hidden[-1,:,:]) hidden layers\n",
    "        #and apply dropout\n",
    "        \n",
    "        hidden = self.drop(torch.cat((hidden[-2,:,:], hidden[-1,:,:]), dim = 1))\n",
    "                \n",
    "        #hidden = [batch size, hid dim * num directions]\n",
    "            \n",
    "        return self.fc(hidden)"
   ]
  },
  {
   "cell_type": "code",
   "execution_count": 28,
   "metadata": {},
   "outputs": [],
   "source": [
    "def binary_accuracy(preds, y):\n",
    "    #round predictions to the closest integer\n",
    "    rounded_preds = torch.round(torch.sigmoid(preds))\n",
    "    correct = (rounded_preds == y).float() #convert into float for division \n",
    "    acc = correct.sum()/len(correct)\n",
    "    return acc"
   ]
  },
  {
   "cell_type": "code",
   "execution_count": 29,
   "metadata": {},
   "outputs": [],
   "source": [
    "def train(model, iterator, optimizer, criterion):\n",
    "    \n",
    "    epoch_loss = 0\n",
    "    epoch_acc = 0\n",
    "    \n",
    "    model.train() # train_mode\n",
    "    for batch in iterator:\n",
    "        \n",
    "        # initializing\n",
    "        optimizer.zero_grad()\n",
    "        \n",
    "        # forward pass\n",
    "        text, text_lengths = batch.text\n",
    "        predictions = model(text, text_lengths).squeeze(1)\n",
    "        loss = criterion(predictions, batch.label)\n",
    "        acc = binary_accuracy(predictions, batch.label)\n",
    "        \n",
    "        # backward pass\n",
    "        loss.backward()\n",
    "        optimizer.step()\n",
    "        \n",
    "        epoch_loss += loss.item()\n",
    "        epoch_acc += acc.item()\n",
    "        \n",
    "    return epoch_loss/len(iterator) , epoch_acc/len(iterator) # 평균을 return"
   ]
  },
  {
   "cell_type": "code",
   "execution_count": 30,
   "metadata": {},
   "outputs": [],
   "source": [
    "def evaluate(model, iterator, criterion):\n",
    "    \n",
    "    epoch_loss = 0\n",
    "    epoch_acc = 0\n",
    "    \n",
    "    # evaluation mode\n",
    "    model.eval()\n",
    "    with torch.no_grad():\n",
    "    \n",
    "        for batch in iterator:\n",
    "\n",
    "            text, text_lengths = batch.text\n",
    "            predictions = model(text, text_lengths).squeeze(1)\n",
    "            loss = criterion(predictions, batch.label)\n",
    "            acc = binary_accuracy(predictions, batch.label)\n",
    "\n",
    "            epoch_loss += loss.item()\n",
    "            epoch_acc += acc.item()\n",
    "        \n",
    "    return epoch_loss / len(iterator), epoch_acc / len(iterator)"
   ]
  },
  {
   "cell_type": "code",
   "execution_count": 31,
   "metadata": {},
   "outputs": [],
   "source": [
    "import time\n",
    "\n",
    "def epoch_time(start_time, end_time):\n",
    "    elapsed_time = end_time - start_time\n",
    "    elapsed_mins = int(elapsed_time / 60)\n",
    "    elapsed_secs = int(elapsed_time - (elapsed_mins * 60))\n",
    "    return elapsed_mins, elapsed_secs"
   ]
  },
  {
   "cell_type": "code",
   "execution_count": 32,
   "metadata": {},
   "outputs": [],
   "source": [
    "input_dim = len(TEXT.vocab)\n",
    "embed_dim = 300\n",
    "hidden_dim = 256\n",
    "output_dim = 1\n",
    "n_layers = 2\n",
    "bidrectional = True\n",
    "dropout = 0.5\n",
    "pad_idx = TEXT.vocab.stoi[TEXT.pad_token]"
   ]
  },
  {
   "cell_type": "code",
   "execution_count": 33,
   "metadata": {},
   "outputs": [],
   "source": [
    "model = Sentiment(input_dim, embed_dim, hidden_dim, output_dim, n_layers, bidrectional, dropout, pad_idx).to(device)\n",
    "optimizer = torch.optim.Adam(model.parameters())\n",
    "criterion = nn.BCEWithLogitsLoss().to(device)"
   ]
  },
  {
   "cell_type": "code",
   "execution_count": 34,
   "metadata": {},
   "outputs": [
    {
     "name": "stdout",
     "output_type": "stream",
     "text": [
      "torch.Size([50002, 300])\n"
     ]
    }
   ],
   "source": [
    "pretrained_embeddings = TEXT.vocab.vectors\n",
    "print(pretrained_embeddings.shape)"
   ]
  },
  {
   "cell_type": "code",
   "execution_count": 35,
   "metadata": {},
   "outputs": [
    {
     "data": {
      "text/plain": [
       "tensor([[-0.3104, -1.2357,  1.0572,  ..., -0.5923, -0.6022,  0.0333],\n",
       "        [-0.7384,  0.7869, -0.9975,  ..., -0.1762, -0.1649, -0.3864],\n",
       "        [ 0.0466,  0.2132, -0.0074,  ...,  0.0091, -0.2099,  0.0539],\n",
       "        ...,\n",
       "        [ 1.2554, -0.2486,  0.1763,  ...,  0.8059, -1.2442, -0.3978],\n",
       "        [-1.8237,  0.5547, -0.5060,  ...,  2.0156,  0.3024, -0.9077],\n",
       "        [-0.8247, -0.1858, -0.4743,  ..., -0.2621,  0.6467,  0.0579]],\n",
       "       device='cuda:0')"
      ]
     },
     "execution_count": 35,
     "metadata": {},
     "output_type": "execute_result"
    }
   ],
   "source": [
    "model.embed.weight.data.copy_(pretrained_embeddings)"
   ]
  },
  {
   "cell_type": "code",
   "execution_count": 36,
   "metadata": {},
   "outputs": [
    {
     "name": "stdout",
     "output_type": "stream",
     "text": [
      "tensor([[ 0.0000,  0.0000,  0.0000,  ...,  0.0000,  0.0000,  0.0000],\n",
      "        [ 0.0000,  0.0000,  0.0000,  ...,  0.0000,  0.0000,  0.0000],\n",
      "        [ 0.0466,  0.2132, -0.0074,  ...,  0.0091, -0.2099,  0.0539],\n",
      "        ...,\n",
      "        [ 1.2554, -0.2486,  0.1763,  ...,  0.8059, -1.2442, -0.3978],\n",
      "        [-1.8237,  0.5547, -0.5060,  ...,  2.0156,  0.3024, -0.9077],\n",
      "        [-0.8247, -0.1858, -0.4743,  ..., -0.2621,  0.6467,  0.0579]],\n",
      "       device='cuda:0')\n"
     ]
    }
   ],
   "source": [
    "UNK_IDX = TEXT.vocab.stoi[TEXT.unk_token]\n",
    "\n",
    "model.embed.weight.data[UNK_IDX] = torch.zeros(embed_dim)\n",
    "model.embed.weight.data[pad_idx] = torch.zeros(embed_dim)\n",
    "\n",
    "print(model.embed.weight.data)"
   ]
  },
  {
   "cell_type": "code",
   "execution_count": 37,
   "metadata": {},
   "outputs": [],
   "source": [
    "N_EPOCHS = 10\n",
    "best_val_loss = float('inf')"
   ]
  },
  {
   "cell_type": "code",
   "execution_count": 38,
   "metadata": {},
   "outputs": [
    {
     "name": "stdout",
     "output_type": "stream",
     "text": [
      "Epoch: 01 | Epoch Time: 0m 30s | train_loss: 0.612 | train_acc: 65.95% val_loss: 0.499 |  val_acc: 78.62%\n",
      "Epoch: 02 | Epoch Time: 0m 30s | train_loss: 0.487 | train_acc: 76.91% val_loss: 0.362 |  val_acc: 84.48%\n",
      "Epoch: 03 | Epoch Time: 0m 30s | train_loss: 0.341 | train_acc: 85.48% val_loss: 0.381 |  val_acc: 82.42%\n",
      "Epoch: 04 | Epoch Time: 0m 30s | train_loss: 0.224 | train_acc: 91.58% val_loss: 0.265 |  val_acc: 89.80%\n",
      "Epoch: 05 | Epoch Time: 0m 30s | train_loss: 0.157 | train_acc: 94.42% val_loss: 0.302 |  val_acc: 89.32%\n",
      "Epoch: 06 | Epoch Time: 0m 30s | train_loss: 0.116 | train_acc: 95.90% val_loss: 0.415 |  val_acc: 88.00%\n",
      "Epoch: 07 | Epoch Time: 0m 30s | train_loss: 0.078 | train_acc: 97.34% val_loss: 0.314 |  val_acc: 90.24%\n",
      "Epoch: 08 | Epoch Time: 0m 29s | train_loss: 0.054 | train_acc: 98.33% val_loss: 0.329 |  val_acc: 89.54%\n",
      "Epoch: 09 | Epoch Time: 0m 30s | train_loss: 0.045 | train_acc: 98.62% val_loss: 0.347 |  val_acc: 90.40%\n",
      "Epoch: 10 | Epoch Time: 0m 30s | train_loss: 0.033 | train_acc: 98.99% val_loss: 0.399 |  val_acc: 90.14%\n"
     ]
    }
   ],
   "source": [
    "for epoch in range(N_EPOCHS):\n",
    "\n",
    "    start_time = time.time()\n",
    "    \n",
    "    train_loss, train_acc = train(model, train_iterator, optimizer, criterion)\n",
    "    val_loss, val_acc = evaluate(model, valid_iterator, criterion)\n",
    "    \n",
    "    end_time = time.time()\n",
    "\n",
    "    epoch_mins, epoch_secs = epoch_time(start_time, end_time)\n",
    "    \n",
    "    # 검증 오차가 가장 적은 최적의 모델을 저장\n",
    "    if not best_val_loss or val_loss < best_val_loss:\n",
    "        if not os.path.isdir(\"model\"):\n",
    "            os.makedirs(\"model\")\n",
    "        torch.save(model.state_dict(), './model/imdb3.pt')\n",
    "        best_val_loss = val_loss\n",
    "    \n",
    "    print('Epoch: {:02} | Epoch Time: {}m {}s | train_loss: {:.3f} | train_acc: {:.2%} val_loss: {:.3f} |  val_acc: {:.2%}'\n",
    "         .format(epoch + 1, epoch_mins, epoch_secs, train_loss, train_acc, val_loss, val_acc))"
   ]
  },
  {
   "cell_type": "code",
   "execution_count": 39,
   "metadata": {},
   "outputs": [
    {
     "name": "stdout",
     "output_type": "stream",
     "text": [
      "(tensor([[   21,     9,    11,  ...,    11,   143,     4],\n",
      "        [    4,     7,    25,  ...,    61,    21,   313],\n",
      "        [   83,  1043,    21,  ...,   496,   242,     0],\n",
      "        ...,\n",
      "        [  237, 29026,  2968,  ...,   662,   634, 26998],\n",
      "        [   71,     9,    35,  ...,     1,     1,     1],\n",
      "        [  287,   121,    69,  ...,     1,     1,     1]], device='cuda:0'), tensor([148, 148, 148, 148, 148, 148, 148, 148, 148, 148, 148, 148, 148, 148,\n",
      "        148, 148, 148, 148, 148, 148, 148, 147, 147, 147, 147, 147, 147, 147,\n",
      "        147, 147, 147, 147, 147, 147, 147, 147, 147, 147, 147, 147, 147, 147,\n",
      "        147, 147, 147, 147, 147, 147, 147, 147, 147, 147, 147, 147, 147, 147,\n",
      "        147, 147, 147, 147, 147, 147, 147, 147, 147, 147, 147, 146, 146, 146,\n",
      "        146, 146, 146, 146, 146, 146, 146, 146, 146, 146, 146, 146, 146, 146,\n",
      "        146, 146, 146, 146, 146, 146, 146, 146, 146, 146, 146, 146, 146, 146,\n",
      "        146, 146], device='cuda:0'))\n"
     ]
    }
   ],
   "source": [
    "batch = next(iter(train_iterator)) # 두번째 미니배치\n",
    "print(batch.text)"
   ]
  },
  {
   "cell_type": "code",
   "execution_count": 40,
   "metadata": {},
   "outputs": [
    {
     "name": "stdout",
     "output_type": "stream",
     "text": [
      "\n",
      "[torchtext.data.batch.Batch of size 100]\n",
      "\t[.text]:('[torch.cuda.LongTensor of size 148x100 (GPU 0)]', '[torch.cuda.LongTensor of size 100 (GPU 0)]')\n",
      "\t[.label]:[torch.cuda.FloatTensor of size 100 (GPU 0)]\n"
     ]
    }
   ],
   "source": [
    "print(batch)"
   ]
  },
  {
   "cell_type": "code",
   "execution_count": null,
   "metadata": {},
   "outputs": [],
   "source": []
  }
 ],
 "metadata": {
  "kernelspec": {
   "display_name": "env_torch",
   "language": "python",
   "name": "env_torch"
  },
  "language_info": {
   "codemirror_mode": {
    "name": "ipython",
    "version": 3
   },
   "file_extension": ".py",
   "mimetype": "text/x-python",
   "name": "python",
   "nbconvert_exporter": "python",
   "pygments_lexer": "ipython3",
   "version": "3.7.3"
  }
 },
 "nbformat": 4,
 "nbformat_minor": 4
}

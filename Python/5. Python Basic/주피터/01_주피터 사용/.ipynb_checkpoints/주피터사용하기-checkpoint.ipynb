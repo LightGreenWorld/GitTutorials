{
 "cells": [
  {
   "cell_type": "markdown",
   "metadata": {},
   "source": [
    "### 단축키\n",
    "\n",
    " -엔터: edit mode - 셀에 입력할 수 있다.\n",
    " -esc: command mode - 셀들을 관리할 수 있다.\n",
    "\n",
    "### edit mode\n",
    " -'ctrl' + 'shift' + '-' :  현재 위치를 기준으로 셀을 나눈다.\n",
    " \n",
    "### command mode\n",
    " -방향키 위 아래: 셀 이동\n",
    " -a: 현재 셀 상단에 셀이 추가되고 추가된 셀로 이동한다.\n",
    " -b: 현재 셀 하단에 셀이 추가되고 추가된 셀로 이동한다.\n",
    " -dd: 현재 셀이 삭제된다.\n",
    " -'shift' + 'm': 현재 셀이 하단의 셀과 합쳐진다.\n",
    " -y: code 모드로 변경한다.\n",
    " -m: markdown 모드로 변경한다.\n",
    " \n",
    "### 셀 실행\n",
    " -'shift' + 'enter': 현재 셀을 실행해준다."
   ]
  },
  {
   "cell_type": "code",
   "execution_count": null,
   "metadata": {},
   "outputs": [],
   "source": []
  }
 ],
 "metadata": {
  "kernelspec": {
   "display_name": "Python 3",
   "language": "python",
   "name": "python3"
  },
  "language_info": {
   "codemirror_mode": {
    "name": "ipython",
    "version": 3
   },
   "file_extension": ".py",
   "mimetype": "text/x-python",
   "name": "python",
   "nbconvert_exporter": "python",
   "pygments_lexer": "ipython3",
   "version": "3.7.6"
  }
 },
 "nbformat": 4,
 "nbformat_minor": 4
}

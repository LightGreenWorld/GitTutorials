{
 "cells": [
  {
   "cell_type": "markdown",
   "metadata": {},
   "source": [
    "# K 최근접 이웃\n",
    "\n",
    "가장 단순한 머신러닝 알고리즘\n",
    "\n",
    "학습속도는 매우 빠르지만 예측 결과를 계산하는 속도가 느리다.\n",
    "데이터를 그냥 저장하는 것이 학습의 전부\n",
    "새로 입력된 데이터와 학습된 데이터 간의 거리를 측정해서 가장 가까운 거리에 있는 데이터의 결과가 예측 결과로 결정된다."
   ]
  },
  {
   "cell_type": "code",
   "execution_count": null,
   "metadata": {},
   "outputs": [],
   "source": []
  }
 ],
 "metadata": {
  "kernelspec": {
   "display_name": "Python 3",
   "language": "python",
   "name": "python3"
  },
  "language_info": {
   "codemirror_mode": {
    "name": "ipython",
    "version": 3
   },
   "file_extension": ".py",
   "mimetype": "text/x-python",
   "name": "python",
   "nbconvert_exporter": "python",
   "pygments_lexer": "ipython3",
   "version": "3.7.6"
  }
 },
 "nbformat": 4,
 "nbformat_minor": 4
}

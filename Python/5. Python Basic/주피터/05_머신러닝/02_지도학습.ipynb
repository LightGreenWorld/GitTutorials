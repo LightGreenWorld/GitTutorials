{
 "cells": [
  {
   "cell_type": "markdown",
   "metadata": {},
   "source": [
    "지도학습\n",
    "\n",
    "입력과 출력 데이터가 있고, 주어진 입력으로 부터 출력을 예측하고자 할 때 사용한다.\n",
    "\n",
    "분류: 미리 정의된, 가능성 있는 여러 클래스 레이블 중 하나를 예측한다.\n",
    "\n",
    "회귀: 연속적인 숫자, 또는 부동 소수점을 예측하는 것.\n",
    "\n",
    "일반화: 모델이 처음 보는 데이터에 대해 정확하게 예측할 수 있는 경우\n",
    "\n",
    "과적합: 학습용 데이터를 너무 잘 학습한 것. 학습하지 않은 데이터가 입력될 경우 결과를 엉뚱하게 낸다."
   ]
  },
  {
   "cell_type": "markdown",
   "metadata": {},
   "source": [
    "### 사용할 데이터\n",
    "\n",
    "- forge.csv: 임의로 발생시킨 데이터, 분류 테스트용\n",
    "- wave.csv: 임의로 발생시킨 데이터, 회귀 테스트용\n",
    "- boston.csv: 미국 보스턴 지역의 집값 관련 데이터, 회귀용\n",
    "- breast_cancer.csv: 유방암 데이터, 분류\n",
    "- 데이터 출처: 사이킷런"
   ]
  },
  {
   "cell_type": "code",
   "execution_count": 3,
   "metadata": {},
   "outputs": [],
   "source": [
    "import pandas as pd\n",
    "import matplotlib as mpl"
   ]
  },
  {
   "cell_type": "code",
   "execution_count": 5,
   "metadata": {},
   "outputs": [
    {
     "data": {
      "text/html": [
       "<div>\n",
       "<style scoped>\n",
       "    .dataframe tbody tr th:only-of-type {\n",
       "        vertical-align: middle;\n",
       "    }\n",
       "\n",
       "    .dataframe tbody tr th {\n",
       "        vertical-align: top;\n",
       "    }\n",
       "\n",
       "    .dataframe thead th {\n",
       "        text-align: right;\n",
       "    }\n",
       "</style>\n",
       "<table border=\"1\" class=\"dataframe\">\n",
       "  <thead>\n",
       "    <tr style=\"text-align: right;\">\n",
       "      <th></th>\n",
       "      <th>attr1</th>\n",
       "      <th>attr2</th>\n",
       "      <th>target</th>\n",
       "    </tr>\n",
       "  </thead>\n",
       "  <tbody>\n",
       "    <tr>\n",
       "      <th>0</th>\n",
       "      <td>9.963466</td>\n",
       "      <td>4.596765</td>\n",
       "      <td>1</td>\n",
       "    </tr>\n",
       "    <tr>\n",
       "      <th>1</th>\n",
       "      <td>11.032954</td>\n",
       "      <td>-0.168167</td>\n",
       "      <td>0</td>\n",
       "    </tr>\n",
       "    <tr>\n",
       "      <th>2</th>\n",
       "      <td>11.541558</td>\n",
       "      <td>5.211161</td>\n",
       "      <td>1</td>\n",
       "    </tr>\n",
       "    <tr>\n",
       "      <th>3</th>\n",
       "      <td>8.692890</td>\n",
       "      <td>1.543220</td>\n",
       "      <td>0</td>\n",
       "    </tr>\n",
       "    <tr>\n",
       "      <th>4</th>\n",
       "      <td>8.106227</td>\n",
       "      <td>4.286960</td>\n",
       "      <td>0</td>\n",
       "    </tr>\n",
       "  </tbody>\n",
       "</table>\n",
       "</div>"
      ],
      "text/plain": [
       "       attr1     attr2  target\n",
       "0   9.963466  4.596765       1\n",
       "1  11.032954 -0.168167       0\n",
       "2  11.541558  5.211161       1\n",
       "3   8.692890  1.543220       0\n",
       "4   8.106227  4.286960       0"
      ]
     },
     "execution_count": 5,
     "metadata": {},
     "output_type": "execute_result"
    }
   ],
   "source": [
    "df1 = pd.read_csv('forge.csv')\n",
    "df1.head()"
   ]
  },
  {
   "cell_type": "code",
   "execution_count": 12,
   "metadata": {},
   "outputs": [],
   "source": [
    "# sub_df1 = df1[df1['target']== 1]\n",
    "# sub_df2 = df1[df1['target']== 0]\n",
    "\n",
    "# plt.scatter(sub_df1['attr1'], sub_df1(['attr2'])\n",
    "# plt.scatter(sub_df2['attr1'], sub_df2(['attr2'])"
   ]
  },
  {
   "cell_type": "code",
   "execution_count": null,
   "metadata": {},
   "outputs": [],
   "source": []
  }
 ],
 "metadata": {
  "kernelspec": {
   "display_name": "Python 3",
   "language": "python",
   "name": "python3"
  },
  "language_info": {
   "codemirror_mode": {
    "name": "ipython",
    "version": 3
   },
   "file_extension": ".py",
   "mimetype": "text/x-python",
   "name": "python",
   "nbconvert_exporter": "python",
   "pygments_lexer": "ipython3",
   "version": "3.7.6"
  }
 },
 "nbformat": 4,
 "nbformat_minor": 4
}

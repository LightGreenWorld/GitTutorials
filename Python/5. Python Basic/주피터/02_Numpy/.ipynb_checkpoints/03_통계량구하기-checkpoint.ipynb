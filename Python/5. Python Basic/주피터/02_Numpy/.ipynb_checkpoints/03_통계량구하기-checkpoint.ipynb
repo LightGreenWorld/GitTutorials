{
 "cells": [
  {
   "cell_type": "code",
   "execution_count": 3,
   "metadata": {},
   "outputs": [],
   "source": [
    "import numpy as np"
   ]
  },
  {
   "cell_type": "code",
   "execution_count": 4,
   "metadata": {},
   "outputs": [],
   "source": [
    "array1 = np.array([1, 5, 3, 2, 4])"
   ]
  },
  {
   "cell_type": "code",
   "execution_count": 5,
   "metadata": {},
   "outputs": [
    {
     "name": "stdout",
     "output_type": "stream",
     "text": [
      "array1: [1 5 3 2 4]\n",
      "최대: 5\n",
      "최소: 1\n",
      "최대값의 위치: 1\n",
      "최소: 0\n"
     ]
    }
   ],
   "source": [
    "print('array1:', array1)\n",
    "\n",
    "# 최대\n",
    "print('최대:', np.max(array1))\n",
    "\n",
    "# 최소\n",
    "print('최소:', np.min(array1))\n",
    "\n",
    "# 최대값의 위치\n",
    "print('최대값의 위치:', np.argmax(array1))\n",
    "\n",
    "# 최소값의 위치\n",
    "print('최소:', np.argmin(array1))"
   ]
  },
  {
   "cell_type": "code",
   "execution_count": null,
   "metadata": {},
   "outputs": [],
   "source": [
    "print('총합:', np.sum(array1))\n",
    "print('평균:', np.mean(array1))\n",
    "print('중간값:', np.median(array1))\n"
   ]
  }
 ],
 "metadata": {
  "kernelspec": {
   "display_name": "Python 3",
   "language": "python",
   "name": "python3"
  },
  "language_info": {
   "name": ""
  }
 },
 "nbformat": 4,
 "nbformat_minor": 4
}

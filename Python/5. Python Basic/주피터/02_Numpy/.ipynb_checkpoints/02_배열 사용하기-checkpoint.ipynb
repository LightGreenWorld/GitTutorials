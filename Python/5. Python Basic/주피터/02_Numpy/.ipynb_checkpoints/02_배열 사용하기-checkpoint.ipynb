{
 "cells": [
  {
   "cell_type": "code",
   "execution_count": 3,
   "metadata": {},
   "outputs": [],
   "source": [
    "import numpy as np"
   ]
  },
  {
   "cell_type": "code",
   "execution_count": 6,
   "metadata": {},
   "outputs": [],
   "source": [
    "array1 = np.array([1, 2, 3])\n",
    "array2 = np.array([[1, 2, 3], [4, 5, 6]])"
   ]
  },
  {
   "cell_type": "code",
   "execution_count": 7,
   "metadata": {},
   "outputs": [
    {
     "name": "stdout",
     "output_type": "stream",
     "text": [
      "array1의 차원 수: 1\n",
      "array1의 행열 수: (3,)\n",
      "array2의 차원 수: 2\n",
      "array2의 행열 수: (2, 3)\n"
     ]
    }
   ],
   "source": [
    "print(f'array1의 차원 수: {array1.ndim}')\n",
    "print(f'array1의 행열 수: {array1.shape}')\n",
    "print(f'array2의 차원 수: {array2.ndim}')\n",
    "print(f'array2의 행열 수: {array2.shape}')"
   ]
  },
  {
   "cell_type": "markdown",
   "metadata": {},
   "source": [
    "### 배열의 인덱싱"
   ]
  },
  {
   "cell_type": "code",
   "execution_count": 9,
   "metadata": {},
   "outputs": [],
   "source": [
    "list1 = [10, 20, 30, 40, 50]\n",
    "list2 = [[10, 20, 30], [40, 50, 60]]\n",
    "array1 = np.array([10, 20, 30, 40, 50])\n",
    "array2 = np.array([[10, 20, 30], [40, 50, 60]])"
   ]
  },
  {
   "cell_type": "code",
   "execution_count": 11,
   "metadata": {},
   "outputs": [
    {
     "name": "stdout",
     "output_type": "stream",
     "text": [
      "10\n",
      "10\n",
      "30\n",
      "30\n",
      "50\n",
      "50\n",
      "30\n",
      "30\n"
     ]
    }
   ],
   "source": [
    "# 0번째 값을 가지고 온다.\n",
    "print(list1[0])\n",
    "print(array1[0])\n",
    "\n",
    "# 2번째 값을 가지고 온다.\n",
    "print(list1[2])\n",
    "print(array1[2])\n",
    "\n",
    "# -1번째 값을 가지고 온다.\n",
    "print(list1[-1])\n",
    "print(array1[-1])\n",
    "\n",
    "# -3번째 값을 가지고 온다.\n",
    "print(list1[-3])\n",
    "print(array1[-3])\n"
   ]
  },
  {
   "cell_type": "code",
   "execution_count": 14,
   "metadata": {},
   "outputs": [
    {
     "name": "stdout",
     "output_type": "stream",
     "text": [
      "10\n",
      "10\n",
      "60\n",
      "60\n",
      "60\n",
      "60\n"
     ]
    }
   ],
   "source": [
    "# 0행 0열 값을 가져온다.\n",
    "print(list2[0][0])\n",
    "print(array2[0, 0])\n",
    "\n",
    "# 1행 2열 값을 가져온다.\n",
    "print(list2[1][2])\n",
    "print(array2[1, 2])\n",
    "\n",
    "# 마지막행 마지막열 값을 가져온다.\n",
    "print(list2[-1][-1])\n",
    "print(array2[-1, -1])"
   ]
  },
  {
   "cell_type": "code",
   "execution_count": 16,
   "metadata": {},
   "outputs": [
    {
     "name": "stdout",
     "output_type": "stream",
     "text": [
      "[10 20 30 40 50]\n",
      "[10  0 10  0 10]\n"
     ]
    }
   ],
   "source": [
    "# array1에서 20의 배수만 가져온다.\n",
    "\n",
    "# 전체를 가져온다.\n",
    "print(array1)\n",
    "\n",
    "# 20의 배수인지 확인한다.\n",
    "print(array1 % 20)"
   ]
  },
  {
   "cell_type": "code",
   "execution_count": 17,
   "metadata": {},
   "outputs": [
    {
     "name": "stdout",
     "output_type": "stream",
     "text": [
      "[10 30 50]\n"
     ]
    }
   ],
   "source": [
    "# True, False를 이용한 값 가져오기\n",
    "# []안에 True와 False가 값인 행렬을 넣어주면 True 자리에 해당하는 값만 가져온다.\n",
    "array3 = np.array([True, False, True, False, True])\n",
    "print(array1[array3])"
   ]
  },
  {
   "cell_type": "code",
   "execution_count": 18,
   "metadata": {},
   "outputs": [
    {
     "name": "stdout",
     "output_type": "stream",
     "text": [
      "[10 30 50]\n"
     ]
    }
   ],
   "source": [
    "array4 = np.array([[True, False, True], [False, True, False]])\n",
    "print(array2[array4])"
   ]
  },
  {
   "cell_type": "code",
   "execution_count": 21,
   "metadata": {},
   "outputs": [
    {
     "name": "stdout",
     "output_type": "stream",
     "text": [
      "[10 20 30 40 50]\n",
      "[False False  True  True  True]\n",
      "[30 40 50]\n"
     ]
    }
   ],
   "source": [
    "# array1에서 20보다 큰 값만 가져온다.\n",
    "print(array1)\n",
    "print(array1 > 20)\n",
    "print(array1[array1 > 20])"
   ]
  },
  {
   "cell_type": "code",
   "execution_count": null,
   "metadata": {},
   "outputs": [],
   "source": []
  }
 ],
 "metadata": {
  "kernelspec": {
   "display_name": "Python 3",
   "language": "python",
   "name": "python3"
  },
  "language_info": {
   "codemirror_mode": {
    "name": "ipython",
    "version": 3
   },
   "file_extension": ".py",
   "mimetype": "text/x-python",
   "name": "python",
   "nbconvert_exporter": "python",
   "pygments_lexer": "ipython3",
   "version": "3.7.6"
  }
 },
 "nbformat": 4,
 "nbformat_minor": 4
}

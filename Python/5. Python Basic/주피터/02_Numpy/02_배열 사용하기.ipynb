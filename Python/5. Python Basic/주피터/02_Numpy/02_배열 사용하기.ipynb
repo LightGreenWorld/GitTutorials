{
 "cells": [
  {
   "cell_type": "code",
   "execution_count": 22,
   "metadata": {},
   "outputs": [],
   "source": [
    "import numpy as np"
   ]
  },
  {
   "cell_type": "code",
   "execution_count": 23,
   "metadata": {},
   "outputs": [],
   "source": [
    "array1 = np.array([1, 2, 3])\n",
    "array2 = np.array([[1, 2, 3], [4, 5, 6]])"
   ]
  },
  {
   "cell_type": "code",
   "execution_count": 24,
   "metadata": {},
   "outputs": [
    {
     "name": "stdout",
     "output_type": "stream",
     "text": [
      "array1의 차원 수: 1\n",
      "array1의 행열 수: (3,)\n",
      "array2의 차원 수: 2\n",
      "array2의 행열 수: (2, 3)\n"
     ]
    }
   ],
   "source": [
    "print(f'array1의 차원 수: {array1.ndim}')\n",
    "print(f'array1의 행열 수: {array1.shape}')\n",
    "print(f'array2의 차원 수: {array2.ndim}')\n",
    "print(f'array2의 행열 수: {array2.shape}')"
   ]
  },
  {
   "cell_type": "markdown",
   "metadata": {},
   "source": [
    "### 배열의 인덱싱"
   ]
  },
  {
   "cell_type": "code",
   "execution_count": 25,
   "metadata": {},
   "outputs": [],
   "source": [
    "list1 = [10, 20, 30, 40, 50]\n",
    "list2 = [[10, 20, 30], [40, 50, 60]]\n",
    "array1 = np.array([10, 20, 30, 40, 50])\n",
    "array2 = np.array([[10, 20, 30], [40, 50, 60]])"
   ]
  },
  {
   "cell_type": "code",
   "execution_count": 26,
   "metadata": {},
   "outputs": [
    {
     "name": "stdout",
     "output_type": "stream",
     "text": [
      "10\n",
      "10\n",
      "30\n",
      "30\n",
      "50\n",
      "50\n",
      "30\n",
      "30\n"
     ]
    }
   ],
   "source": [
    "# 0번째 값을 가지고 온다.\n",
    "print(list1[0])\n",
    "print(array1[0])\n",
    "\n",
    "# 2번째 값을 가지고 온다.\n",
    "print(list1[2])\n",
    "print(array1[2])\n",
    "\n",
    "# -1번째 값을 가지고 온다.\n",
    "print(list1[-1])\n",
    "print(array1[-1])\n",
    "\n",
    "# -3번째 값을 가지고 온다.\n",
    "print(list1[-3])\n",
    "print(array1[-3])\n"
   ]
  },
  {
   "cell_type": "code",
   "execution_count": 27,
   "metadata": {},
   "outputs": [
    {
     "name": "stdout",
     "output_type": "stream",
     "text": [
      "10\n",
      "10\n",
      "60\n",
      "60\n",
      "60\n",
      "60\n"
     ]
    }
   ],
   "source": [
    "# 0행 0열 값을 가져온다.\n",
    "print(list2[0][0])\n",
    "print(array2[0, 0])\n",
    "\n",
    "# 1행 2열 값을 가져온다.\n",
    "print(list2[1][2])\n",
    "print(array2[1, 2])\n",
    "\n",
    "# 마지막행 마지막열 값을 가져온다.\n",
    "print(list2[-1][-1])\n",
    "print(array2[-1, -1])"
   ]
  },
  {
   "cell_type": "code",
   "execution_count": 28,
   "metadata": {},
   "outputs": [
    {
     "name": "stdout",
     "output_type": "stream",
     "text": [
      "[10 20 30 40 50]\n",
      "[10  0 10  0 10]\n"
     ]
    }
   ],
   "source": [
    "# array1에서 20의 배수만 가져온다.\n",
    "\n",
    "# 전체를 가져온다.\n",
    "print(array1)\n",
    "\n",
    "# 20의 배수인지 확인한다.\n",
    "print(array1 % 20)"
   ]
  },
  {
   "cell_type": "code",
   "execution_count": 29,
   "metadata": {},
   "outputs": [
    {
     "name": "stdout",
     "output_type": "stream",
     "text": [
      "[10 30 50]\n"
     ]
    }
   ],
   "source": [
    "# True, False를 이용한 값 가져오기\n",
    "# []안에 True와 False가 값인 행렬을 넣어주면 True 자리에 해당하는 값만 가져온다.\n",
    "array3 = np.array([True, False, True, False, True])\n",
    "print(array1[array3])"
   ]
  },
  {
   "cell_type": "code",
   "execution_count": 30,
   "metadata": {},
   "outputs": [
    {
     "name": "stdout",
     "output_type": "stream",
     "text": [
      "[10 30 50]\n"
     ]
    }
   ],
   "source": [
    "array4 = np.array([[True, False, True], [False, True, False]])\n",
    "print(array2[array4])"
   ]
  },
  {
   "cell_type": "code",
   "execution_count": 31,
   "metadata": {},
   "outputs": [
    {
     "name": "stdout",
     "output_type": "stream",
     "text": [
      "[10 20 30 40 50]\n",
      "[False False  True  True  True]\n",
      "[30 40 50]\n"
     ]
    }
   ],
   "source": [
    "# array1에서 20보다 큰 값만 가져온다.\n",
    "print(array1)\n",
    "print(array1 > 20)\n",
    "print(array1[array1 > 20])"
   ]
  },
  {
   "cell_type": "markdown",
   "metadata": {},
   "source": [
    "### 배열 슬라이싱"
   ]
  },
  {
   "cell_type": "code",
   "execution_count": 32,
   "metadata": {},
   "outputs": [],
   "source": [
    "list1 = [10, 20, 30, 40, 50]\n",
    "list2 = [[10, 20, 30], [40, 50, 60]]\n",
    "array1 = np.array([10, 20, 30, 40, 50])\n",
    "array2 = np.array([[10, 20, 30], [40, 50, 60]])"
   ]
  },
  {
   "cell_type": "code",
   "execution_count": 38,
   "metadata": {},
   "outputs": [
    {
     "ename": "SyntaxError",
     "evalue": "invalid syntax (<ipython-input-38-18661a832d38>, line 4)",
     "output_type": "error",
     "traceback": [
      "\u001b[1;36m  File \u001b[1;32m\"<ipython-input-38-18661a832d38>\"\u001b[1;36m, line \u001b[1;32m4\u001b[0m\n\u001b[1;33m    print(list2[0:1], [0:1])\u001b[0m\n\u001b[1;37m                        ^\u001b[0m\n\u001b[1;31mSyntaxError\u001b[0m\u001b[1;31m:\u001b[0m invalid syntax\n"
     ]
    }
   ],
   "source": [
    "# 일부만 가져온다.\n",
    "# 시작인덱스 : 끝인덱스 -1\n",
    "# print(list1[1:4])\n",
    "# print(list2[0:1], [0:1])"
   ]
  },
  {
   "cell_type": "code",
   "execution_count": null,
   "metadata": {},
   "outputs": [],
   "source": []
  },
  {
   "cell_type": "code",
   "execution_count": null,
   "metadata": {},
   "outputs": [],
   "source": []
  },
  {
   "cell_type": "code",
   "execution_count": 41,
   "metadata": {},
   "outputs": [
    {
     "name": "stdout",
     "output_type": "stream",
     "text": [
      "[10, 11.11, True, '안녕하세요']\n",
      "['10' '11.11' 'True' '안녕하세요']\n"
     ]
    }
   ],
   "source": [
    "list1 = [10, 11.11, True, '안녕하세요']\n",
    "array1 = np.array([10, 11.11, True, '안녕하세요'])\n",
    "print(list1)\n",
    "print(array1)"
   ]
  },
  {
   "cell_type": "code",
   "execution_count": 42,
   "metadata": {},
   "outputs": [
    {
     "data": {
      "text/plain": [
       "array([0., 0., 0., 0., 0.])"
      ]
     },
     "execution_count": 42,
     "metadata": {},
     "output_type": "execute_result"
    }
   ],
   "source": [
    "# 0으로 채워진 행렬을 생성한다.\n",
    "array2 = np.zeros(5)\n",
    "array2"
   ]
  },
  {
   "cell_type": "code",
   "execution_count": 43,
   "metadata": {},
   "outputs": [
    {
     "data": {
      "text/plain": [
       "array([[0., 0., 0.],\n",
       "       [0., 0., 0.]])"
      ]
     },
     "execution_count": 43,
     "metadata": {},
     "output_type": "execute_result"
    }
   ],
   "source": [
    "array3 = np.zeros([2,3])\n",
    "array3"
   ]
  },
  {
   "cell_type": "code",
   "execution_count": 44,
   "metadata": {},
   "outputs": [
    {
     "data": {
      "text/plain": [
       "array([[1, 1, 1],\n",
       "       [1, 1, 1]], dtype=int32)"
      ]
     },
     "execution_count": 44,
     "metadata": {},
     "output_type": "execute_result"
    }
   ],
   "source": [
    "array5 = np.ones([2,3], dtype= 'i')\n",
    "array5"
   ]
  },
  {
   "cell_type": "code",
   "execution_count": 45,
   "metadata": {},
   "outputs": [
    {
     "data": {
      "text/plain": [
       "array([[0., 0., 0.],\n",
       "       [0., 0., 0.]])"
      ]
     },
     "execution_count": 45,
     "metadata": {},
     "output_type": "execute_result"
    }
   ],
   "source": [
    "# 쓰레기 값이 담긴 행렬 생성\n",
    "array6 = np.empty([2,3])\n",
    "array6"
   ]
  },
  {
   "cell_type": "code",
   "execution_count": 49,
   "metadata": {},
   "outputs": [
    {
     "name": "stdout",
     "output_type": "stream",
     "text": [
      "[0 1 2 3 4 5 6 7 8 9]\n",
      "[ 3  4  5  6  7  8  9 10 11]\n"
     ]
    }
   ],
   "source": [
    "# 범위 값을 가지고 있는 행렬 생성\n",
    "# 0 ~ 10 -1\n",
    "\n",
    "array7= np.arange(10)\n",
    "print(array7)\n",
    "\n",
    "# 3 ~ 12 -1\n",
    "\n",
    "array8= np.arange(3, 12)\n",
    "print(array8)"
   ]
  },
  {
   "cell_type": "code",
   "execution_count": 51,
   "metadata": {},
   "outputs": [
    {
     "name": "stdout",
     "output_type": "stream",
     "text": [
      "[  0.  25.  50.  75. 100.]\n"
     ]
    }
   ],
   "source": [
    "# 특정 범위 안에서 원하는 만큼의 숫자를 추출해 행열로 생성한다.\n",
    "# 시작값, 끝 값, 개수\n",
    "\n",
    "array10 = np.linspace(0, 100, 5)\n",
    "print(array10)"
   ]
  },
  {
   "cell_type": "markdown",
   "metadata": {},
   "source": [
    "### 전치 연산 (행과 열을 바꾼다"
   ]
  },
  {
   "cell_type": "code",
   "execution_count": 53,
   "metadata": {},
   "outputs": [
    {
     "name": "stdout",
     "output_type": "stream",
     "text": [
      "[[10 20 30]\n",
      " [40 50 60]]\n",
      "[[10 40]\n",
      " [20 50]\n",
      " [30 60]]\n"
     ]
    }
   ],
   "source": [
    "array1 = np. array([[10, 20, 30], [40, 50, 60]])\n",
    "array2 = array1.T\n",
    "\n",
    "print(array1)\n",
    "print(array2)"
   ]
  },
  {
   "cell_type": "markdown",
   "metadata": {},
   "source": [
    "### 배열의 크기 변형"
   ]
  },
  {
   "cell_type": "code",
   "execution_count": 58,
   "metadata": {},
   "outputs": [
    {
     "name": "stdout",
     "output_type": "stream",
     "text": [
      "[ 0  1  2  3  4  5  6  7  8  9 10 11]\n"
     ]
    }
   ],
   "source": [
    "array1 = np.arange(12)\n",
    "print(array1)"
   ]
  },
  {
   "cell_type": "code",
   "execution_count": 60,
   "metadata": {},
   "outputs": [
    {
     "data": {
      "text/plain": [
       "array([[ 0,  1,  2,  3],\n",
       "       [ 4,  5,  6,  7],\n",
       "       [ 8,  9, 10, 11]])"
      ]
     },
     "execution_count": 60,
     "metadata": {},
     "output_type": "execute_result"
    }
   ],
   "source": [
    "array2 = array1.reshape(3, 4)\n",
    "array2"
   ]
  },
  {
   "cell_type": "code",
   "execution_count": 64,
   "metadata": {},
   "outputs": [
    {
     "data": {
      "text/plain": [
       "array([ 0,  1,  2,  3,  4,  5,  6,  7,  8,  9, 10, 11])"
      ]
     },
     "execution_count": 64,
     "metadata": {},
     "output_type": "execute_result"
    }
   ],
   "source": [
    "# 행열을 배열로 만든다.\n",
    "array3 = array2.flatten()\n",
    "array3"
   ]
  },
  {
   "cell_type": "code",
   "execution_count": null,
   "metadata": {},
   "outputs": [],
   "source": []
  }
 ],
 "metadata": {
  "kernelspec": {
   "display_name": "Python 3",
   "language": "python",
   "name": "python3"
  },
  "language_info": {
   "codemirror_mode": {
    "name": "ipython",
    "version": 3
   },
   "file_extension": ".py",
   "mimetype": "text/x-python",
   "name": "python",
   "nbconvert_exporter": "python",
   "pygments_lexer": "ipython3",
   "version": "3.7.6"
  }
 },
 "nbformat": 4,
 "nbformat_minor": 4
}

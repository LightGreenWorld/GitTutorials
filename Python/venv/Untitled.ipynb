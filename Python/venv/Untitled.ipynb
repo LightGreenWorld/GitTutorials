{
 "cells": [
  {
   "cell_type": "markdown",
   "metadata": {},
   "source": [
    "## 순열"
   ]
  },
  {
   "cell_type": "code",
   "execution_count": 12,
   "metadata": {},
   "outputs": [
    {
     "name": "stdout",
     "output_type": "stream",
     "text": [
      "['A', 'A']\n",
      "['A', 'B']\n",
      "['A', 'C']\n",
      "['B', 'A']\n",
      "['B', 'C']\n",
      "['C', 'A']\n",
      "['C', 'B']\n"
     ]
    }
   ],
   "source": [
    "def permutation(arr, r):\n",
    "    arr = sorted(arr)\n",
    "    used = [0 for _ in range(len(arr))]\n",
    "\n",
    "    def generate(chosen, used):\n",
    "        \n",
    "        if len(chosen) == r:\n",
    "            print(chosen)\n",
    "            return\n",
    "        \n",
    "        for i in range(len(arr)):\n",
    "            #원소 중복 존재해도, 중복 제거\n",
    "            if not used[i] and (i == 0 or arr[i-1] != arr[i] or used[i-1]):\n",
    "                chosen.append(arr[i])\n",
    "                used[i] = 1\n",
    "                generate(chosen, used)\n",
    "                used[i] = 0\n",
    "                chosen.pop()\n",
    "    generate([], used)\n",
    "    \n",
    "permutation('AABC', 2)"
   ]
  },
  {
   "cell_type": "code",
   "execution_count": null,
   "metadata": {},
   "outputs": [],
   "source": [
    "arr = [1,2,3,4,5]\n",
    "a = arr.pop()\n",
    "a\n",
    "arr"
   ]
  },
  {
   "cell_type": "code",
   "execution_count": null,
   "metadata": {},
   "outputs": [],
   "source": [
    "r = 2\n",
    "arr = [1,2,3,4,5]\n",
    "used = [0 for _ in range(100)]\n",
    "\n",
    "def generate(chosen, used):\n",
    "    if len(chosen) == r:\n",
    "        print(chosen)\n",
    "        return\n",
    "\n",
    "    for i in range(len(arr)):\n",
    "        if not used[i]:\n",
    "            chosen.append(arr[i])\n",
    "            used[i] = 1\n",
    "            generate(chosen, used)\n",
    "            used[i] = 0\n",
    "            chosen.pop()\n",
    "generate([], used)"
   ]
  },
  {
   "cell_type": "markdown",
   "metadata": {},
   "source": [
    "## 조합"
   ]
  },
  {
   "cell_type": "code",
   "execution_count": 8,
   "metadata": {},
   "outputs": [
    {
     "name": "stdout",
     "output_type": "stream",
     "text": [
      "['A', 'B']\n",
      "['A', 'C']\n",
      "['A', 'D']\n",
      "['A', 'E']\n",
      "['B', 'C']\n",
      "['B', 'D']\n",
      "['B', 'E']\n",
      "['C', 'D']\n",
      "['C', 'E']\n",
      "['D', 'E']\n",
      "[1, 1, 3]\n",
      "[1, 1, 4]\n",
      "[1, 3, 4]\n"
     ]
    }
   ],
   "source": [
    "def combination(arr, r):\n",
    "    arr = sorted(arr)\n",
    "    used = [0 for _ in range(len(arr))]\n",
    "\n",
    "    def generate(chosen):\n",
    "        if len(chosen) == r:\n",
    "            print(chosen)\n",
    "            return\n",
    "\n",
    "\n",
    "        start = arr.index(chosen[-1]) + 1 if chosen else 0\n",
    "        for nxt in range(start, len(arr)):\n",
    "            if used[nxt] == 0 and (nxt == 0 or arr[nxt-1] != arr[nxt] or used[nxt-1]): \n",
    "                chosen.append(arr[nxt])\n",
    "                used[nxt] = 1\n",
    "                generate(chosen)\n",
    "                chosen.pop()\n",
    "                used[nxt] = 0\n",
    "                \n",
    "    generate([])\n",
    "\n",
    "\n",
    "combination('ABCDE', 2)\n",
    "combination([1, 1, 3, 4], 3)"
   ]
  },
  {
   "cell_type": "code",
   "execution_count": null,
   "metadata": {},
   "outputs": [],
   "source": [
    "a"
   ]
  }
 ],
 "metadata": {
  "kernelspec": {
   "display_name": "Python 3",
   "language": "python",
   "name": "python3"
  },
  "language_info": {
   "codemirror_mode": {
    "name": "ipython",
    "version": 3
   },
   "file_extension": ".py",
   "mimetype": "text/x-python",
   "name": "python",
   "nbconvert_exporter": "python",
   "pygments_lexer": "ipython3",
   "version": "3.8.5"
  }
 },
 "nbformat": 4,
 "nbformat_minor": 4
}
